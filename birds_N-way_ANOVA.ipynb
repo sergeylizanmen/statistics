{
 "cells": [
  {
   "cell_type": "code",
   "execution_count": 62,
   "id": "0a92da9e",
   "metadata": {},
   "outputs": [],
   "source": [
    "# df\n",
    "import pandas as pd\n",
    "\n",
    "# formula anova_lm\n",
    "from statsmodels.formula.api import ols\n",
    "from statsmodels.stats.anova import anova_lm\n",
    "\n",
    "# plots\n",
    "import seaborn as sns\n",
    "import matplotlib.pyplot as plt\n",
    "\n",
    "\n",
    "%matplotlib inline"
   ]
  },
  {
   "cell_type": "markdown",
   "id": "08de1f4b",
   "metadata": {},
   "source": [
    "Данные взяты из бесплатного курса \"Основы статистики\" на платформе Stepik. В них представлена информация по исследованию влияния инъекции некоторого гормона на показатель концентрации кальция в плазме крови у птиц с учетом их пола.\n",
    "\n",
    "\n",
    "**Цель** - оценить имеется ли влияние пола и наличия инъекции на показатель кальция\n",
    "\n",
    "Изначально известно:\n",
    "* Данные количесвенные\n",
    "* Независимые\n",
    "* Данные изъяты из г.с. с нормальным распределение\n",
    "* Дисперсии гомогенны\n",
    "* Выборки равны по объему\n",
    "\n",
    "\n",
    "\n",
    "Близости средних будет  оцениваться с помощью *многофакторного дисперсионного анализа* "
   ]
  },
  {
   "cell_type": "markdown",
   "id": "335b6e16",
   "metadata": {},
   "source": [
    "# 1. Загрузка и предобработка данных\n"
   ]
  },
  {
   "cell_type": "code",
   "execution_count": 63,
   "id": "1e792312",
   "metadata": {},
   "outputs": [
    {
     "data": {
      "text/html": [
       "<div>\n",
       "<style scoped>\n",
       "    .dataframe tbody tr th:only-of-type {\n",
       "        vertical-align: middle;\n",
       "    }\n",
       "\n",
       "    .dataframe tbody tr th {\n",
       "        vertical-align: top;\n",
       "    }\n",
       "\n",
       "    .dataframe thead th {\n",
       "        text-align: right;\n",
       "    }\n",
       "</style>\n",
       "<table border=\"1\" class=\"dataframe\">\n",
       "  <thead>\n",
       "    <tr style=\"text-align: right;\">\n",
       "      <th></th>\n",
       "      <th>var4</th>\n",
       "      <th>hormone</th>\n",
       "      <th>sex</th>\n",
       "    </tr>\n",
       "  </thead>\n",
       "  <tbody>\n",
       "    <tr>\n",
       "      <th>0</th>\n",
       "      <td>17.859039</td>\n",
       "      <td>1</td>\n",
       "      <td>1</td>\n",
       "    </tr>\n",
       "    <tr>\n",
       "      <th>1</th>\n",
       "      <td>20.842343</td>\n",
       "      <td>1</td>\n",
       "      <td>1</td>\n",
       "    </tr>\n",
       "    <tr>\n",
       "      <th>2</th>\n",
       "      <td>19.318099</td>\n",
       "      <td>1</td>\n",
       "      <td>1</td>\n",
       "    </tr>\n",
       "    <tr>\n",
       "      <th>3</th>\n",
       "      <td>20.064451</td>\n",
       "      <td>1</td>\n",
       "      <td>1</td>\n",
       "    </tr>\n",
       "    <tr>\n",
       "      <th>4</th>\n",
       "      <td>17.620316</td>\n",
       "      <td>1</td>\n",
       "      <td>1</td>\n",
       "    </tr>\n",
       "  </tbody>\n",
       "</table>\n",
       "</div>"
      ],
      "text/plain": [
       "        var4  hormone  sex\n",
       "0  17.859039        1    1\n",
       "1  20.842343        1    1\n",
       "2  19.318099        1    1\n",
       "3  20.064451        1    1\n",
       "4  17.620316        1    1"
      ]
     },
     "execution_count": 63,
     "metadata": {},
     "output_type": "execute_result"
    }
   ],
   "source": [
    "# Data loading\n",
    "url = 'https://stepik.org/media/attachments/lesson/9250/birds.csv'\n",
    "birds_data = pd.read_csv(url)\n",
    "birds_data.head()"
   ]
  },
  {
   "cell_type": "code",
   "execution_count": 64,
   "id": "350f315b",
   "metadata": {},
   "outputs": [],
   "source": [
    "# alpha\n",
    "alpha = 0.05"
   ]
  },
  {
   "cell_type": "code",
   "execution_count": 65,
   "id": "560ecb61",
   "metadata": {},
   "outputs": [
    {
     "data": {
      "text/plain": [
       "var4       0\n",
       "hormone    0\n",
       "sex        0\n",
       "dtype: int64"
      ]
     },
     "execution_count": 65,
     "metadata": {},
     "output_type": "execute_result"
    }
   ],
   "source": [
    "# Check NA\n",
    "birds_data.isna().sum()"
   ]
  },
  {
   "cell_type": "code",
   "execution_count": 66,
   "id": "825f3c12",
   "metadata": {},
   "outputs": [
    {
     "data": {
      "text/html": [
       "<div>\n",
       "<style scoped>\n",
       "    .dataframe tbody tr th:only-of-type {\n",
       "        vertical-align: middle;\n",
       "    }\n",
       "\n",
       "    .dataframe tbody tr th {\n",
       "        vertical-align: top;\n",
       "    }\n",
       "\n",
       "    .dataframe thead tr th {\n",
       "        text-align: left;\n",
       "    }\n",
       "\n",
       "    .dataframe thead tr:last-of-type th {\n",
       "        text-align: right;\n",
       "    }\n",
       "</style>\n",
       "<table border=\"1\" class=\"dataframe\">\n",
       "  <thead>\n",
       "    <tr>\n",
       "      <th></th>\n",
       "      <th></th>\n",
       "      <th colspan=\"8\" halign=\"left\">var4</th>\n",
       "    </tr>\n",
       "    <tr>\n",
       "      <th></th>\n",
       "      <th></th>\n",
       "      <th>count</th>\n",
       "      <th>mean</th>\n",
       "      <th>std</th>\n",
       "      <th>min</th>\n",
       "      <th>25%</th>\n",
       "      <th>50%</th>\n",
       "      <th>75%</th>\n",
       "      <th>max</th>\n",
       "    </tr>\n",
       "    <tr>\n",
       "      <th>hormone</th>\n",
       "      <th>sex</th>\n",
       "      <th></th>\n",
       "      <th></th>\n",
       "      <th></th>\n",
       "      <th></th>\n",
       "      <th></th>\n",
       "      <th></th>\n",
       "      <th></th>\n",
       "      <th></th>\n",
       "    </tr>\n",
       "  </thead>\n",
       "  <tbody>\n",
       "    <tr>\n",
       "      <th rowspan=\"2\" valign=\"top\">0</th>\n",
       "      <th>0</th>\n",
       "      <td>16.0</td>\n",
       "      <td>19.887291</td>\n",
       "      <td>3.677211</td>\n",
       "      <td>13.947889</td>\n",
       "      <td>17.474799</td>\n",
       "      <td>19.244836</td>\n",
       "      <td>21.026331</td>\n",
       "      <td>28.619523</td>\n",
       "    </tr>\n",
       "    <tr>\n",
       "      <th>1</th>\n",
       "      <td>16.0</td>\n",
       "      <td>17.608916</td>\n",
       "      <td>2.449753</td>\n",
       "      <td>13.140259</td>\n",
       "      <td>15.333087</td>\n",
       "      <td>17.929291</td>\n",
       "      <td>19.517146</td>\n",
       "      <td>20.688260</td>\n",
       "    </tr>\n",
       "    <tr>\n",
       "      <th rowspan=\"2\" valign=\"top\">1</th>\n",
       "      <th>0</th>\n",
       "      <td>16.0</td>\n",
       "      <td>17.292254</td>\n",
       "      <td>2.864428</td>\n",
       "      <td>12.452679</td>\n",
       "      <td>14.917269</td>\n",
       "      <td>17.415496</td>\n",
       "      <td>18.750598</td>\n",
       "      <td>22.300875</td>\n",
       "    </tr>\n",
       "    <tr>\n",
       "      <th>1</th>\n",
       "      <td>16.0</td>\n",
       "      <td>19.743662</td>\n",
       "      <td>3.383574</td>\n",
       "      <td>14.574463</td>\n",
       "      <td>17.799358</td>\n",
       "      <td>19.691275</td>\n",
       "      <td>21.875595</td>\n",
       "      <td>25.152882</td>\n",
       "    </tr>\n",
       "  </tbody>\n",
       "</table>\n",
       "</div>"
      ],
      "text/plain": [
       "             var4                                                        \\\n",
       "            count       mean       std        min        25%        50%   \n",
       "hormone sex                                                               \n",
       "0       0    16.0  19.887291  3.677211  13.947889  17.474799  19.244836   \n",
       "        1    16.0  17.608916  2.449753  13.140259  15.333087  17.929291   \n",
       "1       0    16.0  17.292254  2.864428  12.452679  14.917269  17.415496   \n",
       "        1    16.0  19.743662  3.383574  14.574463  17.799358  19.691275   \n",
       "\n",
       "                                   \n",
       "                   75%        max  \n",
       "hormone sex                        \n",
       "0       0    21.026331  28.619523  \n",
       "        1    19.517146  20.688260  \n",
       "1       0    18.750598  22.300875  \n",
       "        1    21.875595  25.152882  "
      ]
     },
     "execution_count": 66,
     "metadata": {},
     "output_type": "execute_result"
    }
   ],
   "source": [
    "# Basic metrics\n",
    "birds_data.groupby(['hormone', 'sex']).describe()"
   ]
  },
  {
   "cell_type": "markdown",
   "id": "c50a0b40",
   "metadata": {},
   "source": [
    "# 2. n-way ANOVA\n",
    "\n",
    "\n",
    "H0: средние значения выборок равны\n",
    "\n",
    "α = 0.05"
   ]
  },
  {
   "cell_type": "code",
   "execution_count": 67,
   "id": "0b7636b6",
   "metadata": {},
   "outputs": [
    {
     "name": "stdout",
     "output_type": "stream",
     "text": [
      "               df      sum_sq    mean_sq         F    PR(>F)\n",
      "hormone       1.0    0.847472   0.847472  0.086528  0.769653\n",
      "sex           1.0    0.119762   0.119762  0.012228  0.912318\n",
      "hormone:sex   1.0   89.483384  89.483384  9.136390  0.003682\n",
      "Residual     60.0  587.650394   9.794173       NaN       NaN\n"
     ]
    }
   ],
   "source": [
    "# N-way ANOVA\n",
    "formula = 'var4 ~ hormone + sex + hormone:sex'\n",
    "model = ols(formula, birds_data).fit()\n",
    "aov_table = anova_lm(model, type=2)\n",
    "print(aov_table)"
   ]
  },
  {
   "cell_type": "markdown",
   "id": "5442d199",
   "metadata": {},
   "source": [
    "По p-значению можно сделать вывод, что в отдельности факторы не оказывают значимого влияния на уровень кальция в крови. Но их взаимодействие оказывает влияние.\n"
   ]
  },
  {
   "cell_type": "markdown",
   "id": "ab34c572",
   "metadata": {},
   "source": [
    "# 3. Оценим результаты по графику доверительных интервалов\n"
   ]
  },
  {
   "cell_type": "code",
   "execution_count": 68,
   "id": "215a1bea",
   "metadata": {},
   "outputs": [],
   "source": [
    "# Chart settings\n",
    "sns.set(style='whitegrid',\n",
    "        font_scale=1.2,\n",
    "        rc = {'figure.figsize': (14,8)})"
   ]
  },
  {
   "cell_type": "code",
   "execution_count": 69,
   "id": "63fbbffc",
   "metadata": {},
   "outputs": [
    {
     "data": {
      "text/plain": [
       "<matplotlib.legend.Legend at 0x1977ba76fd0>"
      ]
     },
     "execution_count": 69,
     "metadata": {},
     "output_type": "execute_result"
    },
    {
     "data": {
      "image/png": "[encoded data removed]",
      "text/plain": [
       "<Figure size 1008x576 with 1 Axes>"
      ]
     },
     "metadata": {},
     "output_type": "display_data"
    }
   ],
   "source": [
    "# Сonfidence interval plot\n",
    "pplot =  sns.pointplot(data=birds_data, x='hormone', y='var4', hue='sex',dodge=0.1, capsize=0.05)\n",
    "\n",
    "# Settings\n",
    "pplot.set_title('Исследование концентрации калия в плазме крови птиц\\n', fontsize=25)\n",
    "pplot.set_xlabel('Инъекция гормона', fontsize=20)\n",
    "pplot.set_ylabel('Концентрация\\n', fontsize=20)\n",
    "\n",
    "pplot.set_xticklabels(labels=['Введена', 'Не введена'], fontsize=15)\n",
    "\n",
    "handles = pplot.get_legend_handles_labels()[0]\n",
    "pplot.legend(handles=handles, \n",
    "             labels=['Мужской', 'Женский'], \n",
    "             title='Пол птиц', \n",
    "             title_fontsize=20, \n",
    "             fontsize=15)"
   ]
  },
  {
   "cell_type": "markdown",
   "id": "0f243f3c",
   "metadata": {},
   "source": [
    "По графику видно, что факт инъекции по разному влияет на уровень концетрации кальция в крови в зависимости от пола птиц. Это еще раз подтвержает вывод о значимостьи влияния совокупности этих факторов\n"
   ]
  },
  {
   "cell_type": "markdown",
   "id": "03e9b0ef",
   "metadata": {},
   "source": [
    "# 4. Вывод\n",
    "\n",
    "Факторы отдельно друг от друга не оказывают значимого влияния на уровень концетрации калия. Но их взаимодействие статистически значимо."
   ]
  }
 ],
 "metadata": {
  "kernelspec": {
   "display_name": "Python 3 (ipykernel)",
   "language": "python",
   "name": "python3"
  },
  "language_info": {
   "codemirror_mode": {
    "name": "ipython",
    "version": 3
   },
   "file_extension": ".py",
   "mimetype": "text/x-python",
   "name": "python",
   "nbconvert_exporter": "python",
   "pygments_lexer": "ipython3",
   "version": "3.9.7"
  }
 },
 "nbformat": 4,
 "nbformat_minor": 5
}
